{
  "nbformat": 4,
  "nbformat_minor": 0,
  "metadata": {
    "colab": {
      "provenance": [],
      "include_colab_link": true
    },
    "kernelspec": {
      "name": "python3",
      "display_name": "Python 3"
    },
    "language_info": {
      "name": "python"
    }
  },
  "cells": [
    {
      "cell_type": "markdown",
      "metadata": {
        "id": "view-in-github",
        "colab_type": "text"
      },
      "source": [
        "<a href=\"https://colab.research.google.com/github/wasioto/DA_M1_Notebooks/blob/main/Copy_of_week_2_2024.ipynb\" target=\"_parent\"><img src=\"https://colab.research.google.com/assets/colab-badge.svg\" alt=\"Open In Colab\"/></a>"
      ]
    },
    {
      "cell_type": "markdown",
      "source": [
        "# What are Lists in Python?\n",
        "\n",
        "**Objective:** Introduce the concept of lists in Python.\n",
        "\n",
        "Explanation:\n",
        "\n",
        "A list is a collection of items (elements) that are ordered, changeable, and allow duplicate elements.\n",
        "Lists are written with square brackets [].\n",
        "Example:\n",
        "\n",
        "```python\n",
        "fruits = [\"apple\", \"banana\", \"cherry\"]\n",
        "```\n",
        "\n",
        "Activity:\n",
        "\n",
        "- Create lists of favorite books, cities, or colors.\n",
        "- Print the list and check its type using `type()`.\n",
        "\n"
      ],
      "metadata": {
        "id": "FqqtQCvbEfea"
      }
    },
    {
      "cell_type": "code",
      "source": [
        "cities = [\"Columbus\", \"Boston\", \"Chicago\"]\n",
        "print(cities)\n",
        "print(type(cities))\n"
      ],
      "metadata": {
        "id": "VBxzp_P7kHg4",
        "colab": {
          "base_uri": "https://localhost:8080/"
        },
        "outputId": "417c084d-2722-4ad0-94dc-80defa462d81"
      },
      "execution_count": null,
      "outputs": [
        {
          "output_type": "stream",
          "name": "stdout",
          "text": [
            "['Columbus', 'Boston', 'Chicago']\n",
            "<class 'list'>\n"
          ]
        }
      ]
    },
    {
      "cell_type": "markdown",
      "source": [
        "# Using an Index to Access Lists\n",
        "\n",
        "**Objective:** Teach how to access list elements using their index.\n",
        "\n",
        "Explanation:\n",
        "\n",
        "Lists are zero-indexed, meaning the first element has an index of 0.\n",
        "Negative indexing can be used to access elements from the end of the list.\n",
        "Example:\n",
        "\n",
        "```python\n",
        "fruits = [\"apple\", \"banana\", \"cherry\"]\n",
        "print(fruits[0])  # Output: apple\n",
        "print(fruits[-1])  # Output: cherry\n",
        "```\n",
        "\n",
        "Activity:\n",
        "\n",
        "- Access different elements from your list using positive and negative indexes.\n",
        "- Practice with a out-of-range indices and note what happened."
      ],
      "metadata": {
        "id": "OpnYOl-SkHrM"
      }
    },
    {
      "cell_type": "code",
      "source": [
        "cities = [\"Columbus\", \"Boston\", \"Chicago\"]\n",
        "print(cities[0])\n",
        "print(cities[-1])\n"
      ],
      "metadata": {
        "id": "EHh4i3BbkzcE",
        "colab": {
          "base_uri": "https://localhost:8080/"
        },
        "outputId": "2fdc653f-b005-4a04-af57-257f77f9a92f"
      },
      "execution_count": null,
      "outputs": [
        {
          "output_type": "stream",
          "name": "stdout",
          "text": [
            "Columbus\n",
            "Chicago\n"
          ]
        }
      ]
    },
    {
      "cell_type": "markdown",
      "source": [
        "# Important Functions and Methods for Lists\n",
        "\n",
        "**Objective:** Familiarize students with essential list functions and methods.\n",
        "\n",
        "Explanation:\n",
        "\n",
        "Common list methods:\n",
        "- `append()`: Add an item at the end.\n",
        "- `insert()`: Insert an item at a specific index.\n",
        "- `remove()`: Remove a specific item.\n",
        "- `pop()`: Remove an item at a specific position (or the last one if no index is provided).\n",
        "- `sort()`: Sort the list.\n",
        "\n",
        "Example:\n",
        "\n",
        "```python\n",
        "fruits = [\"apple\", \"banana\", \"cherry\"]\n",
        "fruits.append(\"orange\")\n",
        "fruits.remove(\"banana\")\n",
        "print(fruits)  # Output: [\"apple\", \"cherry\", \"orange\"]\n",
        "```\n",
        "\n",
        "Activity:\n",
        "\n",
        "- Modify your lists using different methods (add, remove, and sort elements).\n",
        "- Practice `pop()` to see how it returns and removes an element."
      ],
      "metadata": {
        "id": "k6lAH4qskzrX"
      }
    },
    {
      "cell_type": "code",
      "source": [
        "cities = [\"Columbus\", \"Boston\", \"Chicago\"]\n",
        "cities.append(\"New York\")\n",
        "cities.remove(\"Boston\")\n",
        "print(cities)"
      ],
      "metadata": {
        "id": "De2Kjp-RMzKP",
        "colab": {
          "base_uri": "https://localhost:8080/"
        },
        "outputId": "556c599d-c816-40e1-8fc1-a1b459f4839d"
      },
      "execution_count": 1,
      "outputs": [
        {
          "output_type": "stream",
          "name": "stdout",
          "text": [
            "['Columbus', 'Chicago', 'New York']\n"
          ]
        }
      ]
    },
    {
      "cell_type": "markdown",
      "source": [
        "# Iterating Using the for Loop\n",
        "\n",
        "**Objective:** Teach how to iterate over lists using for loops.\n",
        "\n",
        "**Explanation:**\n",
        "\n",
        "A for loop allows you to go through each element in a list.\n",
        "It repeats the block of code for every element.\n",
        "\n",
        "Example:\n",
        "\n",
        "```python\n",
        "fruits = [\"apple\", \"banana\", \"cherry\"]\n",
        "for fruit in fruits:\n",
        "    print(fruit)\n",
        "```\n",
        "\n",
        "Activity:\n",
        "\n",
        "- Write a for loop that prints each element of their lists.\n",
        "- Combine a for loop with an if condition (e.g., print only fruits starting with \"a\").\n"
      ],
      "metadata": {
        "id": "4uRYh4WnmdxQ"
      }
    },
    {
      "cell_type": "code",
      "source": [
        "cities = [\"Columbus\", \"Boston\", \"Chicago\"]\n",
        "for city in cities:\n",
        "  print(city)"
      ],
      "metadata": {
        "id": "MZgJu1fGmjmz",
        "colab": {
          "base_uri": "https://localhost:8080/"
        },
        "outputId": "8c1eb9c0-e07d-4f5f-bf2c-2e91ac5f5302"
      },
      "execution_count": 2,
      "outputs": [
        {
          "output_type": "stream",
          "name": "stdout",
          "text": [
            "Columbus\n",
            "Boston\n",
            "Chicago\n"
          ]
        }
      ]
    },
    {
      "cell_type": "markdown",
      "source": [
        "# Using Ranges to Create Sequences of Numbers\n",
        "\n",
        "**Objective:** Learn how to generate a range of numbers and use them in loops.\n",
        "\n",
        "Explanation:\n",
        "\n",
        "`range(start, stop, step)` generates numbers in a sequence.\n",
        "It’s often used in for loops when working with indices or generating sequences.\n",
        "Example:\n",
        "\n",
        "```python\n",
        "for i in range(5):\n",
        "    print(i)  # Output: 0, 1, 2, 3, 4\n",
        "```\n",
        "\n",
        "**Activity:**\n",
        "\n",
        "- Write a loop that uses `range()` to print numbers from 1 to 10.\n",
        "- Use a step of 2 to print every second number.\n",
        "\n"
      ],
      "metadata": {
        "id": "QiSH1jNqmj-F"
      }
    },
    {
      "cell_type": "code",
      "source": [
        "for i in range(1, 11, 2):\n",
        "  print(i)"
      ],
      "metadata": {
        "id": "-sCSwObLoG7W",
        "colab": {
          "base_uri": "https://localhost:8080/"
        },
        "outputId": "4cb13e3e-f3a6-48c0-8869-2ee3167ac927"
      },
      "execution_count": 3,
      "outputs": [
        {
          "output_type": "stream",
          "name": "stdout",
          "text": [
            "1\n",
            "3\n",
            "5\n",
            "7\n",
            "9\n"
          ]
        }
      ]
    },
    {
      "cell_type": "markdown",
      "source": [
        "# Sequences\n",
        "\n",
        "**Objective:** Understand sequences and their shared characteristics.\n",
        "\n",
        "**Explanation:**\n",
        "\n",
        "Lists, strings, and tuples are all sequences in Python.\n",
        "Sequences support common operations like indexing, slicing, and iteration.\n",
        "Example:\n",
        "\n",
        "```python\n",
        "sequence = [1, 2, 3, 4, 5]\n",
        "print(sequence[0])  # Output: 1\n",
        "```\n",
        "\n",
        "Activity:\n",
        "\n",
        "- Create sequences using different data types (list, string, tuple).\n",
        "- Discuss similarities between lists and other sequences (e.g., strings can be indexed similarly).\n",
        "\n",
        "\n"
      ],
      "metadata": {
        "id": "wuUAqq0goHSs"
      }
    },
    {
      "cell_type": "code",
      "source": [
        "sequence = [5, 6, 7, 8, 9]\n",
        "print(sequence[0])"
      ],
      "metadata": {
        "id": "180KxnhYod7L",
        "colab": {
          "base_uri": "https://localhost:8080/"
        },
        "outputId": "6e3175b6-5634-4235-b273-88c52b681a82"
      },
      "execution_count": 4,
      "outputs": [
        {
          "output_type": "stream",
          "name": "stdout",
          "text": [
            "5\n"
          ]
        }
      ]
    },
    {
      "cell_type": "markdown",
      "source": [
        "# Slicing\n",
        "\n",
        "**Objective:** Learn how to extract subsets of a list using slicing.\n",
        "\n",
        "**Explanation:**\n",
        "\n",
        "Slicing allows you to extract parts of a list (or any sequence) using start:end:step.\n",
        "start is inclusive, but end is exclusive.\n",
        "Example:\n",
        "\n",
        "```python\n",
        "numbers = [0, 1, 2, 3, 4, 5]\n",
        "print(numbers[1:4])  # Output: [1, 2, 3]\n",
        "```\n",
        "\n",
        "**Activity:**\n",
        "\n",
        "- Extract a subset of their list using slicing.\n",
        "- Try slices with different step values (e.g., reverse the list with [::-1]).\n"
      ],
      "metadata": {
        "id": "U9NF7lWmofVd"
      }
    },
    {
      "cell_type": "code",
      "source": [
        "numbers = [11, 12, 13, 14, 15, 16, 17, 18, 19, 20]\n",
        "print(numbers[1:4])\n",
        "print(numbers[::-1])"
      ],
      "metadata": {
        "id": "nLTFgBg3o7i-",
        "colab": {
          "base_uri": "https://localhost:8080/"
        },
        "outputId": "fb57d048-a83c-46ff-8c88-4ffbe0b3eac8"
      },
      "execution_count": 5,
      "outputs": [
        {
          "output_type": "stream",
          "name": "stdout",
          "text": [
            "[12, 13, 14]\n",
            "[20, 19, 18, 17, 16, 15, 14, 13, 12, 11]\n"
          ]
        }
      ]
    },
    {
      "cell_type": "markdown",
      "source": [
        "# List Comprehension\n",
        "\n",
        "**Objective:** Introduce list comprehension for creating new lists in a concise way.\n",
        "\n",
        "**Explanation:**\n",
        "\n",
        "List comprehension offers a shorter syntax to create new lists based on existing ones.\n",
        "Example:\n",
        "\n",
        "```python\n",
        "numbers = [1, 2, 3, 4, 5]\n",
        "squares = [x**2 for x in numbers]\n",
        "print(squares)  # Output: [1, 4, 9, 16, 25]\n",
        "```\n",
        "\n",
        "**Activity:**\n",
        "\n",
        "- create a new list using list comprehension, e.g., a list of squares or even numbers.\n",
        "- ***Challenge*** include an if condition in the comprehension, such as filtering out odd numbers."
      ],
      "metadata": {
        "id": "FXvlWq_3o7qr"
      }
    },
    {
      "cell_type": "code",
      "source": [
        "numbers = [11, 12, 13, 14, 15, 16, 17, 18, 19, 20]\n",
        "even_numbers = [x for x in numbers if x % 2 == 0]\n",
        "print(even_numbers)"
      ],
      "metadata": {
        "id": "kqY4gunPpjhG",
        "colab": {
          "base_uri": "https://localhost:8080/"
        },
        "outputId": "fad3de1f-ac1f-421c-992a-34dc96d5a610"
      },
      "execution_count": 9,
      "outputs": [
        {
          "output_type": "stream",
          "name": "stdout",
          "text": [
            "[12, 14, 16, 18, 20]\n"
          ]
        }
      ]
    },
    {
      "cell_type": "markdown",
      "source": [
        "# Final Exercise:\n",
        "\n",
        "Create a program that:\n",
        "- Asks the user to input a list of numbers  \n",
        "- Then prints the list.\n",
        "- Slices and prints the first 3 elements\n",
        "- Uses list comprehension to print the square of each number."
      ],
      "metadata": {
        "id": "uQiffD-8plJs"
      }
    },
    {
      "cell_type": "code",
      "source": [
        "user = input(\"Please list numbers: \")\n",
        "numbers = user.split()\n",
        "print(numbers[1:4])"
      ],
      "metadata": {
        "id": "zG9FeDZMqbon",
        "colab": {
          "base_uri": "https://localhost:8080/",
          "height": 329
        },
        "outputId": "e3d5d158-87c9-4899-e6f8-4081d3a36815"
      },
      "execution_count": 8,
      "outputs": [
        {
          "output_type": "error",
          "ename": "KeyboardInterrupt",
          "evalue": "Interrupted by user",
          "traceback": [
            "\u001b[0;31m---------------------------------------------------------------------------\u001b[0m",
            "\u001b[0;31mKeyboardInterrupt\u001b[0m                         Traceback (most recent call last)",
            "\u001b[0;32m<ipython-input-8-9240f26164d2>\u001b[0m in \u001b[0;36m<cell line: 1>\u001b[0;34m()\u001b[0m\n\u001b[0;32m----> 1\u001b[0;31m \u001b[0muser\u001b[0m \u001b[0;34m=\u001b[0m \u001b[0minput\u001b[0m\u001b[0;34m(\u001b[0m\u001b[0;34m\"Please list numbers: \"\u001b[0m\u001b[0;34m)\u001b[0m\u001b[0;34m\u001b[0m\u001b[0;34m\u001b[0m\u001b[0m\n\u001b[0m\u001b[1;32m      2\u001b[0m \u001b[0mnumbers\u001b[0m \u001b[0;34m=\u001b[0m \u001b[0muser\u001b[0m\u001b[0;34m.\u001b[0m\u001b[0msplit\u001b[0m\u001b[0;34m(\u001b[0m\u001b[0;34m)\u001b[0m\u001b[0;34m\u001b[0m\u001b[0;34m\u001b[0m\u001b[0m\n\u001b[1;32m      3\u001b[0m \u001b[0mprint\u001b[0m\u001b[0;34m(\u001b[0m\u001b[0mnumbers\u001b[0m\u001b[0;34m[\u001b[0m\u001b[0;36m1\u001b[0m\u001b[0;34m:\u001b[0m\u001b[0;36m4\u001b[0m\u001b[0;34m]\u001b[0m\u001b[0;34m)\u001b[0m\u001b[0;34m\u001b[0m\u001b[0;34m\u001b[0m\u001b[0m\n",
            "\u001b[0;32m/usr/local/lib/python3.10/dist-packages/ipykernel/kernelbase.py\u001b[0m in \u001b[0;36mraw_input\u001b[0;34m(self, prompt)\u001b[0m\n\u001b[1;32m    849\u001b[0m                 \u001b[0;34m\"raw_input was called, but this frontend does not support input requests.\"\u001b[0m\u001b[0;34m\u001b[0m\u001b[0;34m\u001b[0m\u001b[0m\n\u001b[1;32m    850\u001b[0m             )\n\u001b[0;32m--> 851\u001b[0;31m         return self._input_request(str(prompt),\n\u001b[0m\u001b[1;32m    852\u001b[0m             \u001b[0mself\u001b[0m\u001b[0;34m.\u001b[0m\u001b[0m_parent_ident\u001b[0m\u001b[0;34m,\u001b[0m\u001b[0;34m\u001b[0m\u001b[0;34m\u001b[0m\u001b[0m\n\u001b[1;32m    853\u001b[0m             \u001b[0mself\u001b[0m\u001b[0;34m.\u001b[0m\u001b[0m_parent_header\u001b[0m\u001b[0;34m,\u001b[0m\u001b[0;34m\u001b[0m\u001b[0;34m\u001b[0m\u001b[0m\n",
            "\u001b[0;32m/usr/local/lib/python3.10/dist-packages/ipykernel/kernelbase.py\u001b[0m in \u001b[0;36m_input_request\u001b[0;34m(self, prompt, ident, parent, password)\u001b[0m\n\u001b[1;32m    893\u001b[0m             \u001b[0;32mexcept\u001b[0m \u001b[0mKeyboardInterrupt\u001b[0m\u001b[0;34m:\u001b[0m\u001b[0;34m\u001b[0m\u001b[0;34m\u001b[0m\u001b[0m\n\u001b[1;32m    894\u001b[0m                 \u001b[0;31m# re-raise KeyboardInterrupt, to truncate traceback\u001b[0m\u001b[0;34m\u001b[0m\u001b[0;34m\u001b[0m\u001b[0m\n\u001b[0;32m--> 895\u001b[0;31m                 \u001b[0;32mraise\u001b[0m \u001b[0mKeyboardInterrupt\u001b[0m\u001b[0;34m(\u001b[0m\u001b[0;34m\"Interrupted by user\"\u001b[0m\u001b[0;34m)\u001b[0m \u001b[0;32mfrom\u001b[0m \u001b[0;32mNone\u001b[0m\u001b[0;34m\u001b[0m\u001b[0;34m\u001b[0m\u001b[0m\n\u001b[0m\u001b[1;32m    896\u001b[0m             \u001b[0;32mexcept\u001b[0m \u001b[0mException\u001b[0m \u001b[0;32mas\u001b[0m \u001b[0me\u001b[0m\u001b[0;34m:\u001b[0m\u001b[0;34m\u001b[0m\u001b[0;34m\u001b[0m\u001b[0m\n\u001b[1;32m    897\u001b[0m                 \u001b[0mself\u001b[0m\u001b[0;34m.\u001b[0m\u001b[0mlog\u001b[0m\u001b[0;34m.\u001b[0m\u001b[0mwarning\u001b[0m\u001b[0;34m(\u001b[0m\u001b[0;34m\"Invalid Message:\"\u001b[0m\u001b[0;34m,\u001b[0m \u001b[0mexc_info\u001b[0m\u001b[0;34m=\u001b[0m\u001b[0;32mTrue\u001b[0m\u001b[0;34m)\u001b[0m\u001b[0;34m\u001b[0m\u001b[0;34m\u001b[0m\u001b[0m\n",
            "\u001b[0;31mKeyboardInterrupt\u001b[0m: Interrupted by user"
          ]
        }
      ]
    },
    {
      "cell_type": "markdown",
      "source": [
        "# Bonus\n",
        "\n",
        "### FizzBuzz Instructions:\n",
        "\n",
        "1. Objective: Write a program that prints the numbers from 1 to 100.\n",
        "    - But for multiples of 3, print \"Fizz\" instead of the number\n",
        "  - For multiples of 5, print \"Buzz.\"\n",
        "  - For numbers which are multiples of both 3 and 5, print \"FizzBuzz.\"\n",
        "\n",
        "2. Using the Modulus Operator (%):\n",
        "  - The modulus operator is key to determining whether a number is divisible by another number. It returns the remainder of a division.\n",
        "\n",
        "\n",
        "3. Steps:\n",
        "\n",
        "  - Loop through numbers from 1 to 100.\n",
        "  - For each number, use the modulus operator to check:\n",
        "  - If it is divisible by both 3 and 5, print \"FizzBuzz.\"\n",
        "  - If it is divisible only by 3, print \"Fizz.\"\n",
        "  - If it is divisible only by 5, print \"Buzz.\"\n",
        "  - Otherwise, print the number itself.\n"
      ],
      "metadata": {
        "id": "aGs2Lzd_NEn8"
      }
    },
    {
      "cell_type": "code",
      "source": [],
      "metadata": {
        "id": "Sbig89F5NZmQ"
      },
      "execution_count": null,
      "outputs": []
    }
  ]
}