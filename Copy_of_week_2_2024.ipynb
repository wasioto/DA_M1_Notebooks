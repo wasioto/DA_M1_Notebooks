{
  "nbformat": 4,
  "nbformat_minor": 0,
  "metadata": {
    "colab": {
      "provenance": [],
      "include_colab_link": true
    },
    "kernelspec": {
      "name": "python3",
      "display_name": "Python 3"
    },
    "language_info": {
      "name": "python"
    }
  },
  "cells": [
    {
      "cell_type": "markdown",
      "metadata": {
        "id": "view-in-github",
        "colab_type": "text"
      },
      "source": [
        "<a href=\"https://colab.research.google.com/github/wasioto/DA_M1_Notebooks/blob/main/Copy_of_week_2_2024.ipynb\" target=\"_parent\"><img src=\"https://colab.research.google.com/assets/colab-badge.svg\" alt=\"Open In Colab\"/></a>"
      ]
    },
    {
      "cell_type": "markdown",
      "source": [
        "# What are Lists in Python?\n",
        "\n",
        "**Objective:** Introduce the concept of lists in Python.\n",
        "\n",
        "Explanation:\n",
        "\n",
        "A list is a collection of items (elements) that are ordered, changeable, and allow duplicate elements.\n",
        "Lists are written with square brackets [].\n",
        "Example:\n",
        "\n",
        "```python\n",
        "fruits = [\"apple\", \"banana\", \"cherry\"]\n",
        "```\n",
        "\n",
        "Activity:\n",
        "\n",
        "- Create lists of favorite books, cities, or colors.\n",
        "- Print the list and check its type using `type()`.\n",
        "\n"
      ],
      "metadata": {
        "id": "FqqtQCvbEfea"
      }
    },
    {
      "cell_type": "code",
      "source": [
        "cities = [\"Columbus\", \"Boston\", \"Chicago\"]\n",
        "print(cities)\n",
        "print(type(cities))\n"
      ],
      "metadata": {
        "id": "VBxzp_P7kHg4",
        "colab": {
          "base_uri": "https://localhost:8080/"
        },
        "outputId": "417c084d-2722-4ad0-94dc-80defa462d81"
      },
      "execution_count": null,
      "outputs": [
        {
          "output_type": "stream",
          "name": "stdout",
          "text": [
            "['Columbus', 'Boston', 'Chicago']\n",
            "<class 'list'>\n"
          ]
        }
      ]
    },
    {
      "cell_type": "markdown",
      "source": [
        "# Using an Index to Access Lists\n",
        "\n",
        "**Objective:** Teach how to access list elements using their index.\n",
        "\n",
        "Explanation:\n",
        "\n",
        "Lists are zero-indexed, meaning the first element has an index of 0.\n",
        "Negative indexing can be used to access elements from the end of the list.\n",
        "Example:\n",
        "\n",
        "```python\n",
        "fruits = [\"apple\", \"banana\", \"cherry\"]\n",
        "print(fruits[0])  # Output: apple\n",
        "print(fruits[-1])  # Output: cherry\n",
        "```\n",
        "\n",
        "Activity:\n",
        "\n",
        "- Access different elements from your list using positive and negative indexes.\n",
        "- Practice with a out-of-range indices and note what happened."
      ],
      "metadata": {
        "id": "OpnYOl-SkHrM"
      }
    },
    {
      "cell_type": "code",
      "source": [
        "cities = [\"Columbus\", \"Boston\", \"Chicago\"]\n",
        "print(cities[0])\n",
        "print(cities[-1])\n"
      ],
      "metadata": {
        "id": "EHh4i3BbkzcE",
        "colab": {
          "base_uri": "https://localhost:8080/"
        },
        "outputId": "2fdc653f-b005-4a04-af57-257f77f9a92f"
      },
      "execution_count": null,
      "outputs": [
        {
          "output_type": "stream",
          "name": "stdout",
          "text": [
            "Columbus\n",
            "Chicago\n"
          ]
        }
      ]
    },
    {
      "cell_type": "markdown",
      "source": [
        "# Important Functions and Methods for Lists\n",
        "\n",
        "**Objective:** Familiarize students with essential list functions and methods.\n",
        "\n",
        "Explanation:\n",
        "\n",
        "Common list methods:\n",
        "- `append()`: Add an item at the end.\n",
        "- `insert()`: Insert an item at a specific index.\n",
        "- `remove()`: Remove a specific item.\n",
        "- `pop()`: Remove an item at a specific position (or the last one if no index is provided).\n",
        "- `sort()`: Sort the list.\n",
        "\n",
        "Example:\n",
        "\n",
        "```python\n",
        "fruits = [\"apple\", \"banana\", \"cherry\"]\n",
        "fruits.append(\"orange\")\n",
        "fruits.remove(\"banana\")\n",
        "print(fruits)  # Output: [\"apple\", \"cherry\", \"orange\"]\n",
        "```\n",
        "\n",
        "Activity:\n",
        "\n",
        "- Modify your lists using different methods (add, remove, and sort elements).\n",
        "- Practice `pop()` to see how it returns and removes an element."
      ],
      "metadata": {
        "id": "k6lAH4qskzrX"
      }
    },
    {
      "cell_type": "code",
      "source": [
        "cities = [\"Columbus\", \"Boston\", \"Chicago\"]\n",
        "cities.append(\"New York\")\n",
        "cities.remove(\"Boston\")\n",
        "print(cities)"
      ],
      "metadata": {
        "id": "De2Kjp-RMzKP",
        "colab": {
          "base_uri": "https://localhost:8080/"
        },
        "outputId": "556c599d-c816-40e1-8fc1-a1b459f4839d"
      },
      "execution_count": null,
      "outputs": [
        {
          "output_type": "stream",
          "name": "stdout",
          "text": [
            "['Columbus', 'Chicago', 'New York']\n"
          ]
        }
      ]
    },
    {
      "cell_type": "markdown",
      "source": [
        "# Iterating Using the for Loop\n",
        "\n",
        "**Objective:** Teach how to iterate over lists using for loops.\n",
        "\n",
        "**Explanation:**\n",
        "\n",
        "A for loop allows you to go through each element in a list.\n",
        "It repeats the block of code for every element.\n",
        "\n",
        "Example:\n",
        "\n",
        "```python\n",
        "fruits = [\"apple\", \"banana\", \"cherry\"]\n",
        "for fruit in fruits:\n",
        "    print(fruit)\n",
        "```\n",
        "\n",
        "Activity:\n",
        "\n",
        "- Write a for loop that prints each element of their lists.\n",
        "- Combine a for loop with an if condition (e.g., print only fruits starting with \"a\").\n"
      ],
      "metadata": {
        "id": "4uRYh4WnmdxQ"
      }
    },
    {
      "cell_type": "code",
      "source": [
        "cities = [\"Columbus\", \"Boston\", \"Chicago\"]\n",
        "for city in cities:\n",
        "  print(city)"
      ],
      "metadata": {
        "id": "MZgJu1fGmjmz",
        "colab": {
          "base_uri": "https://localhost:8080/"
        },
        "outputId": "8c1eb9c0-e07d-4f5f-bf2c-2e91ac5f5302"
      },
      "execution_count": null,
      "outputs": [
        {
          "output_type": "stream",
          "name": "stdout",
          "text": [
            "Columbus\n",
            "Boston\n",
            "Chicago\n"
          ]
        }
      ]
    },
    {
      "cell_type": "markdown",
      "source": [
        "# Using Ranges to Create Sequences of Numbers\n",
        "\n",
        "**Objective:** Learn how to generate a range of numbers and use them in loops.\n",
        "\n",
        "Explanation:\n",
        "\n",
        "`range(start, stop, step)` generates numbers in a sequence.\n",
        "It’s often used in for loops when working with indices or generating sequences.\n",
        "Example:\n",
        "\n",
        "```python\n",
        "for i in range(5):\n",
        "    print(i)  # Output: 0, 1, 2, 3, 4\n",
        "```\n",
        "\n",
        "**Activity:**\n",
        "\n",
        "- Write a loop that uses `range()` to print numbers from 1 to 10.\n",
        "- Use a step of 2 to print every second number.\n",
        "\n"
      ],
      "metadata": {
        "id": "QiSH1jNqmj-F"
      }
    },
    {
      "cell_type": "code",
      "source": [
        "for i in range(1, 11, 2):\n",
        "  print(i)"
      ],
      "metadata": {
        "id": "-sCSwObLoG7W",
        "colab": {
          "base_uri": "https://localhost:8080/"
        },
        "outputId": "4cb13e3e-f3a6-48c0-8869-2ee3167ac927"
      },
      "execution_count": null,
      "outputs": [
        {
          "output_type": "stream",
          "name": "stdout",
          "text": [
            "1\n",
            "3\n",
            "5\n",
            "7\n",
            "9\n"
          ]
        }
      ]
    },
    {
      "cell_type": "markdown",
      "source": [
        "# Sequences\n",
        "\n",
        "**Objective:** Understand sequences and their shared characteristics.\n",
        "\n",
        "**Explanation:**\n",
        "\n",
        "Lists, strings, and tuples are all sequences in Python.\n",
        "Sequences support common operations like indexing, slicing, and iteration.\n",
        "Example:\n",
        "\n",
        "```python\n",
        "sequence = [1, 2, 3, 4, 5]\n",
        "print(sequence[0])  # Output: 1\n",
        "```\n",
        "\n",
        "Activity:\n",
        "\n",
        "- Create sequences using different data types (list, string, tuple).\n",
        "- Discuss similarities between lists and other sequences (e.g., strings can be indexed similarly).\n",
        "\n",
        "\n"
      ],
      "metadata": {
        "id": "wuUAqq0goHSs"
      }
    },
    {
      "cell_type": "code",
      "source": [
        "sequence = [5, 6, 7, 8, 9]\n",
        "print(sequence[0])"
      ],
      "metadata": {
        "id": "180KxnhYod7L",
        "colab": {
          "base_uri": "https://localhost:8080/"
        },
        "outputId": "6e3175b6-5634-4235-b273-88c52b681a82"
      },
      "execution_count": null,
      "outputs": [
        {
          "output_type": "stream",
          "name": "stdout",
          "text": [
            "5\n"
          ]
        }
      ]
    },
    {
      "cell_type": "markdown",
      "source": [
        "# Slicing\n",
        "\n",
        "**Objective:** Learn how to extract subsets of a list using slicing.\n",
        "\n",
        "**Explanation:**\n",
        "\n",
        "Slicing allows you to extract parts of a list (or any sequence) using start:end:step.\n",
        "start is inclusive, but end is exclusive.\n",
        "Example:\n",
        "\n",
        "```python\n",
        "numbers = [0, 1, 2, 3, 4, 5]\n",
        "print(numbers[1:4])  # Output: [1, 2, 3]\n",
        "```\n",
        "\n",
        "**Activity:**\n",
        "\n",
        "- Extract a subset of their list using slicing.\n",
        "- Try slices with different step values (e.g., reverse the list with [::-1]).\n"
      ],
      "metadata": {
        "id": "U9NF7lWmofVd"
      }
    },
    {
      "cell_type": "code",
      "source": [
        "numbers = [11, 12, 13, 14, 15, 16, 17, 18, 19, 20]\n",
        "print(numbers[1:4])\n",
        "print(numbers[::-1])"
      ],
      "metadata": {
        "id": "nLTFgBg3o7i-",
        "colab": {
          "base_uri": "https://localhost:8080/"
        },
        "outputId": "fb57d048-a83c-46ff-8c88-4ffbe0b3eac8"
      },
      "execution_count": null,
      "outputs": [
        {
          "output_type": "stream",
          "name": "stdout",
          "text": [
            "[12, 13, 14]\n",
            "[20, 19, 18, 17, 16, 15, 14, 13, 12, 11]\n"
          ]
        }
      ]
    },
    {
      "cell_type": "markdown",
      "source": [
        "# List Comprehension\n",
        "\n",
        "**Objective:** Introduce list comprehension for creating new lists in a concise way.\n",
        "\n",
        "**Explanation:**\n",
        "\n",
        "List comprehension offers a shorter syntax to create new lists based on existing ones.\n",
        "Example:\n",
        "\n",
        "```python\n",
        "numbers = [1, 2, 3, 4, 5]\n",
        "squares = [x**2 for x in numbers]\n",
        "print(squares)  # Output: [1, 4, 9, 16, 25]\n",
        "```\n",
        "\n",
        "**Activity:**\n",
        "\n",
        "- create a new list using list comprehension, e.g., a list of squares or even numbers.\n",
        "- ***Challenge*** include an if condition in the comprehension, such as filtering out odd numbers."
      ],
      "metadata": {
        "id": "FXvlWq_3o7qr"
      }
    },
    {
      "cell_type": "code",
      "source": [
        "numbers = [11, 12, 13, 14, 15, 16, 17, 18, 19, 20]\n",
        "even_numbers = [x for x in numbers if x % 2 == 0]\n",
        "print(even_numbers)"
      ],
      "metadata": {
        "id": "kqY4gunPpjhG",
        "colab": {
          "base_uri": "https://localhost:8080/"
        },
        "outputId": "fad3de1f-ac1f-421c-992a-34dc96d5a610"
      },
      "execution_count": null,
      "outputs": [
        {
          "output_type": "stream",
          "name": "stdout",
          "text": [
            "[12, 14, 16, 18, 20]\n"
          ]
        }
      ]
    },
    {
      "cell_type": "markdown",
      "source": [
        "# Final Exercise:\n",
        "\n",
        "Create a program that:\n",
        "- Asks the user to input a list of numbers  \n",
        "- Then prints the list.\n",
        "- Slices and prints the first 3 elements\n",
        "- Uses list comprehension to print the square of each number."
      ],
      "metadata": {
        "id": "uQiffD-8plJs"
      }
    },
    {
      "cell_type": "code",
      "source": [
        "user = input(\"Please list numbers: \")\n",
        "print(user)\n",
        "numbers = [int(x) for x in user.split()]\n",
        "print(numbers)\n",
        "print(numbers[0:3])\n",
        "squares = [x**2 for x in numbers]\n",
        "print(squares)\n",
        "\n",
        "print(numbers[1:4] )\n",
        "\n"
      ],
      "metadata": {
        "id": "zG9FeDZMqbon",
        "colab": {
          "base_uri": "https://localhost:8080/"
        },
        "outputId": "0dfe9f12-d2e5-4484-dc66-ca7a4a495096"
      },
      "execution_count": null,
      "outputs": [
        {
          "output_type": "stream",
          "name": "stdout",
          "text": [
            "Please list numbers: 23 24 25 26 27\n",
            "23 24 25 26 27\n",
            "[23, 24, 25, 26, 27]\n",
            "[23, 24, 25]\n",
            "[529, 576, 625, 676, 729]\n",
            "[24, 25, 26]\n"
          ]
        }
      ]
    },
    {
      "cell_type": "markdown",
      "source": [
        "# Bonus\n",
        "\n",
        "### FizzBuzz Instructions:\n",
        "\n",
        "1. Objective: Write a program that prints the numbers from 1 to 100.\n",
        "    - But for multiples of 3, print \"Fizz\" instead of the number\n",
        "  - For multiples of 5, print \"Buzz.\"\n",
        "  - For numbers which are multiples of both 3 and 5, print \"FizzBuzz.\"\n",
        "\n",
        "2. Using the Modulus Operator (%):\n",
        "  - The modulus operator is key to determining whether a number is divisible by another number. It returns the remainder of a division.\n",
        "\n",
        "\n",
        "3. Steps:\n",
        "\n",
        "  - Loop through numbers from 1 to 100.\n",
        "  - For each number, use the modulus operator to check:\n",
        "  - If it is divisible by both 3 and 5, print \"FizzBuzz.\"\n",
        "  - If it is divisible only by 3, print \"Fizz.\"\n",
        "  - If it is divisible only by 5, print \"Buzz.\"\n",
        "  - Otherwise, print the number itself.\n"
      ],
      "metadata": {
        "id": "aGs2Lzd_NEn8"
      }
    },
    {
      "cell_type": "code",
      "source": [
        "for i in range(1, 101):\n",
        "  if i % 3 == 0 and i % 5 == 0:\n",
        "    print(\"FizzBuzz\")\n",
        "  elif i % 3 == 0:\n",
        "    print(\"Fizz\")\n",
        "  elif i % 5 == 0:\n",
        "    print(\"Buzz\")\n",
        "  else:\n",
        "    print(i)"
      ],
      "metadata": {
        "id": "Sbig89F5NZmQ",
        "colab": {
          "base_uri": "https://localhost:8080/"
        },
        "outputId": "eee3fb06-1b40-4a33-df13-47701fb41a4a"
      },
      "execution_count": null,
      "outputs": [
        {
          "output_type": "stream",
          "name": "stdout",
          "text": [
            "1\n",
            "2\n",
            "Fizz\n",
            "4\n",
            "Buzz\n",
            "Fizz\n",
            "7\n",
            "8\n",
            "Fizz\n",
            "Buzz\n",
            "11\n",
            "Fizz\n",
            "13\n",
            "14\n",
            "FizzBuzz\n",
            "16\n",
            "17\n",
            "Fizz\n",
            "19\n",
            "Buzz\n",
            "Fizz\n",
            "22\n",
            "23\n",
            "Fizz\n",
            "Buzz\n",
            "26\n",
            "Fizz\n",
            "28\n",
            "29\n",
            "FizzBuzz\n",
            "31\n",
            "32\n",
            "Fizz\n",
            "34\n",
            "Buzz\n",
            "Fizz\n",
            "37\n",
            "38\n",
            "Fizz\n",
            "Buzz\n",
            "41\n",
            "Fizz\n",
            "43\n",
            "44\n",
            "FizzBuzz\n",
            "46\n",
            "47\n",
            "Fizz\n",
            "49\n",
            "Buzz\n",
            "Fizz\n",
            "52\n",
            "53\n",
            "Fizz\n",
            "Buzz\n",
            "56\n",
            "Fizz\n",
            "58\n",
            "59\n",
            "FizzBuzz\n",
            "61\n",
            "62\n",
            "Fizz\n",
            "64\n",
            "Buzz\n",
            "Fizz\n",
            "67\n",
            "68\n",
            "Fizz\n",
            "Buzz\n",
            "71\n",
            "Fizz\n",
            "73\n",
            "74\n",
            "FizzBuzz\n",
            "76\n",
            "77\n",
            "Fizz\n",
            "79\n",
            "Buzz\n",
            "Fizz\n",
            "82\n",
            "83\n",
            "Fizz\n",
            "Buzz\n",
            "86\n",
            "Fizz\n",
            "88\n",
            "89\n",
            "FizzBuzz\n",
            "91\n",
            "92\n",
            "Fizz\n",
            "94\n",
            "Buzz\n",
            "Fizz\n",
            "97\n",
            "98\n",
            "Fizz\n",
            "Buzz\n"
          ]
        }
      ]
    }
  ]
}